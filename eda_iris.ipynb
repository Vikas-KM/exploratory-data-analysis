{
  "nbformat": 4,
  "nbformat_minor": 0,
  "metadata": {
    "colab": {
      "name": "eda_iris.ipynb",
      "provenance": [],
      "authorship_tag": "ABX9TyNXQSMthNjGOXtsw4A2oBJd",
      "include_colab_link": true
    },
    "kernelspec": {
      "name": "python3",
      "display_name": "Python 3"
    }
  },
  "cells": [
    {
      "cell_type": "markdown",
      "metadata": {
        "id": "view-in-github",
        "colab_type": "text"
      },
      "source": [
        "<a href=\"https://colab.research.google.com/github/Vikas-KM/exploratory-data-analysis/blob/main/eda_iris.ipynb\" target=\"_parent\"><img src=\"https://colab.research.google.com/assets/colab-badge.svg\" alt=\"Open In Colab\"/></a>"
      ]
    },
    {
      "cell_type": "markdown",
      "metadata": {
        "id": "__weisCqWaF9"
      },
      "source": [
        "#EDA on IRIS Flower dataset"
      ]
    },
    {
      "cell_type": "code",
      "metadata": {
        "id": "qXcvQrC3WYy1"
      },
      "source": [
        ""
      ],
      "execution_count": null,
      "outputs": []
    }
  ]
}